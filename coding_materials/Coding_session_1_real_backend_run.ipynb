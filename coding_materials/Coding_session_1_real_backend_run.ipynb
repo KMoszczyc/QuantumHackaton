{
 "cells": [
  {
   "cell_type": "markdown",
   "metadata": {},
   "source": [
    "_Prerequisite :_\n",
    "\n",
    "- Create an account on IBMQ: https://quantum-computing.ibm.com/\n",
    "- Install Qiskit: https://github.com/Qiskit/qiskit\n",
    "\n",
    "# Configuration\n",
    "Getting yourself an account from IBMQ."
   ]
  },
  {
   "cell_type": "code",
   "execution_count": 1,
   "metadata": {},
   "outputs": [],
   "source": [
    "import qiskit\n",
    "from qiskit import IBMQ"
   ]
  },
  {
   "cell_type": "code",
   "execution_count": 3,
   "metadata": {},
   "outputs": [],
   "source": [
    "## legacy code\n",
    "#Go to your account, copy the token and paste it here.\n",
    "#IBMQ.save_account('<put your own token>'\n",
    "#)"
   ]
  },
  {
   "cell_type": "code",
   "execution_count": null,
   "metadata": {},
   "outputs": [],
   "source": [
    "from qiskit_ibm_provider import IBMProvider\n",
    "\n",
    "# Save your credentials on disk.\n",
    "# IBMProvider.save_account(token='<IBM Quantum API key>')\n",
    "\n",
    "provider = IBMProvider(instance='<>/<>/<>')"
   ]
  },
  {
   "cell_type": "markdown",
   "metadata": {},
   "source": [
    "# Your first quantum program"
   ]
  },
  {
   "cell_type": "markdown",
   "metadata": {},
   "source": [
    "The quantum version of programming Hello World is programming the __Bell states__.\n",
    "\n",
    "$$\n",
    "\\tfrac{1}{\\sqrt{2}}(|00\\rangle + |11\\rangle)\n",
    "$$\n",
    "\n",
    "These are entangled states. We can see that this state has 50% probability of being measured in the state  |00⟩ , and 50% chance of being measured in the state  |11⟩ . Most interestingly, it has a 0% chance of being measured in the states  |01⟩  or  |10⟩ . \n",
    "\n",
    "This combined state cannot be written as two separate qubit states, measuring one will tell us the state of the other and collapse its superposition. For example, if we measured the top qubit and got the state  |1⟩ , the collective state of our qubits changes like so:\n",
    "\n",
    "$$\\tfrac{1}{\\sqrt{2}}(|00\\rangle + |11\\rangle) \\quad \\xrightarrow[]{\\text{measure}} \\quad |11\\rangle$$"
   ]
  },
  {
   "cell_type": "code",
   "execution_count": 5,
   "metadata": {},
   "outputs": [],
   "source": [
    "from qiskit import *\n",
    "%matplotlib inline"
   ]
  },
  {
   "cell_type": "markdown",
   "metadata": {},
   "source": [
    "## Defining qubits and classical bits"
   ]
  },
  {
   "cell_type": "code",
   "execution_count": 6,
   "metadata": {},
   "outputs": [],
   "source": [
    "qr = QuantumRegister(2)"
   ]
  },
  {
   "cell_type": "code",
   "execution_count": 7,
   "metadata": {},
   "outputs": [],
   "source": [
    "cr = ClassicalRegister(2)"
   ]
  },
  {
   "cell_type": "markdown",
   "metadata": {},
   "source": [
    "## Building a circuit"
   ]
  },
  {
   "attachments": {},
   "cell_type": "markdown",
   "metadata": {},
   "source": [
    "To build a Bell state. We need two gates: A Hadamard Gate and a CNOT gate.\n",
    "\n",
    "### Steps\n",
    "1. Let's say we have a two-qubit state |00⟩. We apply a Hadamard gate on our first qubit.\n",
    "$$\\begin{aligned}H|0\\rangle &= \\frac{1}{\\sqrt{2}}\\begin{bmatrix}\n",
    "1 &   1          \\\\\n",
    "1 & -1 \\\\\n",
    "\\end{bmatrix}\\begin{bmatrix}\n",
    "1           \\\\\n",
    "0 \\\\\n",
    "\\end{bmatrix}\\\\ &=\\frac{|0\\rangle+|1\\rangle}{\\sqrt{2}}\\end{aligned}$$\n",
    "We have a qubit in superpostion.\n",
    "\n",
    "2. Now with the second qubit, we have $S = \\tfrac{1}{\\sqrt{2}}(|00\\rangle + |01\\rangle),$ and we apply a CNOT gate with the left qubit as control qubit. \n",
    "\n",
    "<img src=\"./_assets/cnot_gate.png\" width=\"200\"/>\n",
    "\n",
    "Therefore, we obtain:\n",
    "$$\n",
    "CNOT(S) =\\tfrac{1}{\\sqrt{2}}(|00\\rangle + |11\\rangle)\n",
    "$$\n",
    "And we obtain our __Bell state__.\n"
   ]
  },
  {
   "cell_type": "code",
   "execution_count": 8,
   "metadata": {},
   "outputs": [],
   "source": [
    "circuit = QuantumCircuit(qr, cr)"
   ]
  },
  {
   "cell_type": "code",
   "execution_count": 9,
   "metadata": {},
   "outputs": [],
   "source": [
    "circuit.h([0])"
   ]
  },
  {
   "cell_type": "code",
   "execution_count": 10,
   "metadata": {},
   "outputs": [
    {
     "data": {
      "image/png": "[encoded data removed]",
      "text/plain": [
       "<Figure size 159.633x204.68 with 1 Axes>"
      ]
     },
     "metadata": {},
     "output_type": "display_data"
    }
   ],
   "source": [
    "import matplotlib.pylab as plt\n",
    "fig,ax = plt.subplots(figsize=(4,4))\n",
    "circuit.draw(output=\"mpl\", ax=ax)\n",
    "plt.tight_layout()"
   ]
  },
  {
   "cell_type": "code",
   "execution_count": 11,
   "metadata": {},
   "outputs": [
    {
     "data": {
      "text/plain": [
       "<qiskit.circuit.instructionset.InstructionSet at 0x12b29fb90>"
      ]
     },
     "execution_count": 11,
     "metadata": {},
     "output_type": "execute_result"
    }
   ],
   "source": [
    "circuit.cx(qr[0], qr[1])"
   ]
  },
  {
   "cell_type": "code",
   "execution_count": 12,
   "metadata": {},
   "outputs": [
    {
     "data": {
      "image/png": "[encoded data removed]",
      "text/plain": [
       "<Figure size 219.833x204.68 with 1 Axes>"
      ]
     },
     "execution_count": 12,
     "metadata": {},
     "output_type": "execute_result"
    }
   ],
   "source": [
    "circuit.draw(output=\"mpl\")"
   ]
  },
  {
   "cell_type": "code",
   "execution_count": 13,
   "metadata": {},
   "outputs": [
    {
     "data": {
      "text/plain": [
       "<qiskit.circuit.instructionset.InstructionSet at 0x12b614e10>"
      ]
     },
     "execution_count": 13,
     "metadata": {},
     "output_type": "execute_result"
    }
   ],
   "source": [
    "circuit.measure(qr, cr)"
   ]
  },
  {
   "cell_type": "code",
   "execution_count": 14,
   "metadata": {},
   "outputs": [
    {
     "data": {
      "image/png": "[encoded data removed]",
      "text/plain": [
       "<Figure size 340.233x204.68 with 1 Axes>"
      ]
     },
     "execution_count": 14,
     "metadata": {},
     "output_type": "execute_result"
    }
   ],
   "source": [
    "circuit.draw(output=\"mpl\")"
   ]
  },
  {
   "cell_type": "markdown",
   "metadata": {},
   "source": [
    "## Simulating the circuit\n",
    "We use the Aer Component of Qiskit to simulate the result on our local machine before sending it to the quantum computer."
   ]
  },
  {
   "cell_type": "code",
   "execution_count": 15,
   "metadata": {},
   "outputs": [],
   "source": [
    "simulator = Aer.get_backend(\"qasm_simulator\") # qasm = Quantum Assembly Machine"
   ]
  },
  {
   "cell_type": "code",
   "execution_count": 16,
   "metadata": {},
   "outputs": [],
   "source": [
    "result = execute(circuit, backend=simulator).result();"
   ]
  },
  {
   "cell_type": "markdown",
   "metadata": {},
   "source": [
    "## Reading the result"
   ]
  },
  {
   "cell_type": "code",
   "execution_count": 17,
   "metadata": {},
   "outputs": [],
   "source": [
    "from qiskit.tools.visualization import plot_histogram"
   ]
  },
  {
   "cell_type": "code",
   "execution_count": 18,
   "metadata": {},
   "outputs": [
    {
     "data": {
      "image/png": "[encoded data removed]",
      "text/plain": [
       "<Figure size 504x360 with 1 Axes>"
      ]
     },
     "execution_count": 18,
     "metadata": {},
     "output_type": "execute_result"
    }
   ],
   "source": [
    "plot_histogram(result.get_counts(circuit))"
   ]
  },
  {
   "cell_type": "markdown",
   "metadata": {},
   "source": [
    "We get roughly 0.5 probability for the output 00 and 11.  The small error is because we are running a limited number of shots instead of infinite number of shots."
   ]
  },
  {
   "cell_type": "markdown",
   "metadata": {},
   "source": [
    "## Sending our circuit to the quantum computer at IBM"
   ]
  },
  {
   "cell_type": "code",
   "execution_count": 19,
   "metadata": {},
   "outputs": [],
   "source": [
    "provider = IBMQ.get_provider(\"ibm-q\")"
   ]
  },
  {
   "cell_type": "code",
   "execution_count": 20,
   "metadata": {},
   "outputs": [
    {
     "name": "stdout",
     "output_type": "stream",
     "text": [
      "Running on current least busy device:  ibmq_ourense\n"
     ]
    }
   ],
   "source": [
    "# acquiring a backend\n",
    "# Load IBM Q account and get the least busy backend device\n",
    "from qiskit.providers.ibmq import least_busy\n",
    "device = least_busy(\n",
    "    provider.backends(\n",
    "        filters=lambda x: x.configuration().n_qubits >= 3 and not x.\n",
    "        configuration().simulator and x.status().operational == True))\n",
    "print(\"Running on current least busy device: \", device)"
   ]
  },
  {
   "cell_type": "code",
   "execution_count": 21,
   "metadata": {},
   "outputs": [],
   "source": [
    "job = execute(circuit, backend=device)"
   ]
  },
  {
   "cell_type": "markdown",
   "metadata": {},
   "source": [
    "## Monitoring the job"
   ]
  },
  {
   "cell_type": "code",
   "execution_count": 22,
   "metadata": {},
   "outputs": [],
   "source": [
    "from qiskit.tools.monitor import job_monitor"
   ]
  },
  {
   "cell_type": "code",
   "execution_count": 23,
   "metadata": {},
   "outputs": [
    {
     "name": "stdout",
     "output_type": "stream",
     "text": [
      "\r\n",
      "Job Status: job has successfully run\n"
     ]
    }
   ],
   "source": [
    "job_monitor(job)"
   ]
  },
  {
   "cell_type": "code",
   "execution_count": 24,
   "metadata": {},
   "outputs": [],
   "source": [
    "result = job.result()"
   ]
  },
  {
   "cell_type": "code",
   "execution_count": 25,
   "metadata": {},
   "outputs": [
    {
     "data": {
      "image/png": "[encoded data removed]",
      "text/plain": [
       "<Figure size 504x360 with 1 Axes>"
      ]
     },
     "execution_count": 25,
     "metadata": {},
     "output_type": "execute_result"
    }
   ],
   "source": [
    "plot_histogram(result.get_counts(circuit))"
   ]
  },
  {
   "cell_type": "markdown",
   "metadata": {},
   "source": [
    "# Conclusion\n",
    "Looking at this result, we can see that the probability is non-zero for state 01 and 10. Why?\n",
    "\n",
    "The simulator simulates the perfect quantum device, in the mean time the real quantum device is susceptible to small quantum errors. This small quantum errors will be reduced as the technology improves."
   ]
  }
 ],
 "metadata": {
  "kernelspec": {
   "display_name": "qhackathon_23",
   "language": "python",
   "name": "python3"
  },
  "language_info": {
   "codemirror_mode": {
    "name": "ipython",
    "version": 3
   },
   "file_extension": ".py",
   "mimetype": "text/x-python",
   "name": "python",
   "nbconvert_exporter": "python",
   "pygments_lexer": "ipython3",
   "version": "3.9.16"
  },
  "toc": {
   "base_numbering": 1,
   "nav_menu": {},
   "number_sections": true,
   "sideBar": true,
   "skip_h1_title": false,
   "title_cell": "Table of Contents",
   "title_sidebar": "Contents",
   "toc_cell": false,
   "toc_position": {
    "height": "calc(100% - 180px)",
    "left": "10px",
    "top": "150px",
    "width": "216.391px"
   },
   "toc_section_display": true,
   "toc_window_display": true
  }
 },
 "nbformat": 4,
 "nbformat_minor": 2
}
